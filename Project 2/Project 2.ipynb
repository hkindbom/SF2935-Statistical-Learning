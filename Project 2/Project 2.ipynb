{
 "cells": [
  {
   "cell_type": "markdown",
   "metadata": {},
   "source": [
    "## SF2935 Modern methods of statistical learning on KTH\n",
    "### Project 2\n",
    "#### By Hannes Kindbom and Viktor Reineck"
   ]
  },
  {
   "cell_type": "code",
   "execution_count": 1,
   "metadata": {},
   "outputs": [],
   "source": [
    "#Import dependencies\n",
    "import pandas as pd\n",
    "import numpy as np\n",
    "import matplotlib.pyplot as plt\n",
    "from sklearn.model_selection import train_test_split\n",
    "from sklearn.svm import SVC"
   ]
  },
  {
   "cell_type": "code",
   "execution_count": 2,
   "metadata": {},
   "outputs": [],
   "source": [
    "#Read data\n",
    "df = pd.read_csv(\"Auto_dataset.csv\")"
   ]
  },
  {
   "cell_type": "markdown",
   "metadata": {},
   "source": [
    "## Part 1"
   ]
  },
  {
   "cell_type": "code",
   "execution_count": 3,
   "metadata": {},
   "outputs": [
    {
     "data": {
      "text/html": [
       "<div>\n",
       "<style scoped>\n",
       "    .dataframe tbody tr th:only-of-type {\n",
       "        vertical-align: middle;\n",
       "    }\n",
       "\n",
       "    .dataframe tbody tr th {\n",
       "        vertical-align: top;\n",
       "    }\n",
       "\n",
       "    .dataframe thead th {\n",
       "        text-align: right;\n",
       "    }\n",
       "</style>\n",
       "<table border=\"1\" class=\"dataframe\">\n",
       "  <thead>\n",
       "    <tr style=\"text-align: right;\">\n",
       "      <th></th>\n",
       "      <th>mpg</th>\n",
       "      <th>cylinders</th>\n",
       "      <th>displacement</th>\n",
       "      <th>horsepower</th>\n",
       "      <th>weight</th>\n",
       "      <th>acceleration</th>\n",
       "      <th>year</th>\n",
       "      <th>origin</th>\n",
       "      <th>name</th>\n",
       "    </tr>\n",
       "  </thead>\n",
       "  <tbody>\n",
       "    <tr>\n",
       "      <th>0</th>\n",
       "      <td>0</td>\n",
       "      <td>8</td>\n",
       "      <td>307.0</td>\n",
       "      <td>130</td>\n",
       "      <td>3504</td>\n",
       "      <td>12.0</td>\n",
       "      <td>70</td>\n",
       "      <td>1</td>\n",
       "      <td>chevrolet chevelle malibu</td>\n",
       "    </tr>\n",
       "    <tr>\n",
       "      <th>1</th>\n",
       "      <td>0</td>\n",
       "      <td>8</td>\n",
       "      <td>350.0</td>\n",
       "      <td>165</td>\n",
       "      <td>3693</td>\n",
       "      <td>11.5</td>\n",
       "      <td>70</td>\n",
       "      <td>1</td>\n",
       "      <td>buick skylark 320</td>\n",
       "    </tr>\n",
       "    <tr>\n",
       "      <th>2</th>\n",
       "      <td>0</td>\n",
       "      <td>8</td>\n",
       "      <td>318.0</td>\n",
       "      <td>150</td>\n",
       "      <td>3436</td>\n",
       "      <td>11.0</td>\n",
       "      <td>70</td>\n",
       "      <td>1</td>\n",
       "      <td>plymouth satellite</td>\n",
       "    </tr>\n",
       "    <tr>\n",
       "      <th>3</th>\n",
       "      <td>0</td>\n",
       "      <td>8</td>\n",
       "      <td>304.0</td>\n",
       "      <td>150</td>\n",
       "      <td>3433</td>\n",
       "      <td>12.0</td>\n",
       "      <td>70</td>\n",
       "      <td>1</td>\n",
       "      <td>amc rebel sst</td>\n",
       "    </tr>\n",
       "    <tr>\n",
       "      <th>4</th>\n",
       "      <td>0</td>\n",
       "      <td>8</td>\n",
       "      <td>302.0</td>\n",
       "      <td>140</td>\n",
       "      <td>3449</td>\n",
       "      <td>10.5</td>\n",
       "      <td>70</td>\n",
       "      <td>1</td>\n",
       "      <td>ford torino</td>\n",
       "    </tr>\n",
       "    <tr>\n",
       "      <th>5</th>\n",
       "      <td>0</td>\n",
       "      <td>8</td>\n",
       "      <td>429.0</td>\n",
       "      <td>198</td>\n",
       "      <td>4341</td>\n",
       "      <td>10.0</td>\n",
       "      <td>70</td>\n",
       "      <td>1</td>\n",
       "      <td>ford galaxie 500</td>\n",
       "    </tr>\n",
       "    <tr>\n",
       "      <th>6</th>\n",
       "      <td>0</td>\n",
       "      <td>8</td>\n",
       "      <td>454.0</td>\n",
       "      <td>220</td>\n",
       "      <td>4354</td>\n",
       "      <td>9.0</td>\n",
       "      <td>70</td>\n",
       "      <td>1</td>\n",
       "      <td>chevrolet impala</td>\n",
       "    </tr>\n",
       "    <tr>\n",
       "      <th>7</th>\n",
       "      <td>0</td>\n",
       "      <td>8</td>\n",
       "      <td>440.0</td>\n",
       "      <td>215</td>\n",
       "      <td>4312</td>\n",
       "      <td>8.5</td>\n",
       "      <td>70</td>\n",
       "      <td>1</td>\n",
       "      <td>plymouth fury iii</td>\n",
       "    </tr>\n",
       "    <tr>\n",
       "      <th>8</th>\n",
       "      <td>0</td>\n",
       "      <td>8</td>\n",
       "      <td>455.0</td>\n",
       "      <td>225</td>\n",
       "      <td>4425</td>\n",
       "      <td>10.0</td>\n",
       "      <td>70</td>\n",
       "      <td>1</td>\n",
       "      <td>pontiac catalina</td>\n",
       "    </tr>\n",
       "    <tr>\n",
       "      <th>9</th>\n",
       "      <td>0</td>\n",
       "      <td>8</td>\n",
       "      <td>390.0</td>\n",
       "      <td>190</td>\n",
       "      <td>3850</td>\n",
       "      <td>8.5</td>\n",
       "      <td>70</td>\n",
       "      <td>1</td>\n",
       "      <td>amc ambassador dpl</td>\n",
       "    </tr>\n",
       "    <tr>\n",
       "      <th>10</th>\n",
       "      <td>0</td>\n",
       "      <td>8</td>\n",
       "      <td>383.0</td>\n",
       "      <td>170</td>\n",
       "      <td>3563</td>\n",
       "      <td>10.0</td>\n",
       "      <td>70</td>\n",
       "      <td>1</td>\n",
       "      <td>dodge challenger se</td>\n",
       "    </tr>\n",
       "    <tr>\n",
       "      <th>11</th>\n",
       "      <td>0</td>\n",
       "      <td>8</td>\n",
       "      <td>340.0</td>\n",
       "      <td>160</td>\n",
       "      <td>3609</td>\n",
       "      <td>8.0</td>\n",
       "      <td>70</td>\n",
       "      <td>1</td>\n",
       "      <td>plymouth 'cuda 340</td>\n",
       "    </tr>\n",
       "    <tr>\n",
       "      <th>12</th>\n",
       "      <td>0</td>\n",
       "      <td>8</td>\n",
       "      <td>400.0</td>\n",
       "      <td>150</td>\n",
       "      <td>3761</td>\n",
       "      <td>9.5</td>\n",
       "      <td>70</td>\n",
       "      <td>1</td>\n",
       "      <td>chevrolet monte carlo</td>\n",
       "    </tr>\n",
       "    <tr>\n",
       "      <th>13</th>\n",
       "      <td>0</td>\n",
       "      <td>8</td>\n",
       "      <td>455.0</td>\n",
       "      <td>225</td>\n",
       "      <td>3086</td>\n",
       "      <td>10.0</td>\n",
       "      <td>70</td>\n",
       "      <td>1</td>\n",
       "      <td>buick estate wagon (sw)</td>\n",
       "    </tr>\n",
       "    <tr>\n",
       "      <th>14</th>\n",
       "      <td>1</td>\n",
       "      <td>4</td>\n",
       "      <td>113.0</td>\n",
       "      <td>95</td>\n",
       "      <td>2372</td>\n",
       "      <td>15.0</td>\n",
       "      <td>70</td>\n",
       "      <td>3</td>\n",
       "      <td>toyota corona mark ii</td>\n",
       "    </tr>\n",
       "  </tbody>\n",
       "</table>\n",
       "</div>"
      ],
      "text/plain": [
       "    mpg  cylinders  displacement  horsepower  weight  acceleration  year  \\\n",
       "0     0          8         307.0         130    3504          12.0    70   \n",
       "1     0          8         350.0         165    3693          11.5    70   \n",
       "2     0          8         318.0         150    3436          11.0    70   \n",
       "3     0          8         304.0         150    3433          12.0    70   \n",
       "4     0          8         302.0         140    3449          10.5    70   \n",
       "5     0          8         429.0         198    4341          10.0    70   \n",
       "6     0          8         454.0         220    4354           9.0    70   \n",
       "7     0          8         440.0         215    4312           8.5    70   \n",
       "8     0          8         455.0         225    4425          10.0    70   \n",
       "9     0          8         390.0         190    3850           8.5    70   \n",
       "10    0          8         383.0         170    3563          10.0    70   \n",
       "11    0          8         340.0         160    3609           8.0    70   \n",
       "12    0          8         400.0         150    3761           9.5    70   \n",
       "13    0          8         455.0         225    3086          10.0    70   \n",
       "14    1          4         113.0          95    2372          15.0    70   \n",
       "\n",
       "    origin                       name  \n",
       "0        1  chevrolet chevelle malibu  \n",
       "1        1          buick skylark 320  \n",
       "2        1         plymouth satellite  \n",
       "3        1              amc rebel sst  \n",
       "4        1                ford torino  \n",
       "5        1           ford galaxie 500  \n",
       "6        1           chevrolet impala  \n",
       "7        1          plymouth fury iii  \n",
       "8        1           pontiac catalina  \n",
       "9        1         amc ambassador dpl  \n",
       "10       1        dodge challenger se  \n",
       "11       1         plymouth 'cuda 340  \n",
       "12       1      chevrolet monte carlo  \n",
       "13       1    buick estate wagon (sw)  \n",
       "14       3      toyota corona mark ii  "
      ]
     },
     "execution_count": 3,
     "metadata": {},
     "output_type": "execute_result"
    }
   ],
   "source": [
    "#Modify data\n",
    "median_mpg = df[\"mpg\"].median()\n",
    "df[\"mpg\"] = (df[\"mpg\"] > median_mpg).astype(int)\n",
    "#drop non-numeric data\n",
    "df = df[df.horsepower.apply(lambda datapoint: datapoint.isnumeric())]\n",
    "#convert horsepower data to ints\n",
    "df[\"horsepower\"]  = pd.to_numeric(df[\"horsepower\"])\n",
    "\n",
    "df.head(15)"
   ]
  },
  {
   "cell_type": "markdown",
   "metadata": {},
   "source": [
    "#### Help functions for training"
   ]
  },
  {
   "cell_type": "code",
   "execution_count": 4,
   "metadata": {},
   "outputs": [],
   "source": [
    "#Function to analyse test train split\n",
    "def get_error(clf, df, test_size):\n",
    "    train_df, test_df = train_test_split(df, test_size=test_size, random_state=0)\n",
    "    \n",
    "    #column 1 to 4 are the chosen features and column 0 is the response (mpg)\n",
    "    X_train = train_df.iloc[:, 1:4].values\n",
    "    Y_train = train_df.iloc[:, 0].values\n",
    "\n",
    "    X_test = test_df.iloc[:, 1:4].values\n",
    "    Y_test = test_df.iloc[:, 0].values\n",
    "    \n",
    "    clf.fit(X_train,Y_train)\n",
    "    training_error = 1 - clf.score(X_train,Y_train)\n",
    "    test_error = 1 - clf.score(X_test,Y_test)\n",
    "    \n",
    "    print('test size: ' + str(test_size))\n",
    "    print('test error: ' + str(test_error) + '\\n')\n",
    "    print('training error: ' + str(training_error))\n",
    "    return training_error, test_error"
   ]
  },
  {
   "cell_type": "code",
   "execution_count": 5,
   "metadata": {},
   "outputs": [],
   "source": [
    "#plot errors and function of test sizes for a classifier\n",
    "def plot_errors_for_test_sizes(clf, df, test_sizes):\n",
    "    training_errors = []\n",
    "    test_errors = []\n",
    "   \n",
    "    for test_size in test_sizes:\n",
    "        training_error, test_error = get_error(clf, df, test_size)\n",
    "        training_errors.append(training_error)\n",
    "        test_errors.append(test_error)\n",
    "    \n",
    "    plt.figure(figsize=(12, 8))\n",
    "    plt.plot(test_sizes, test_errors, 'r',label = \"Test Error\")\n",
    "    plt.plot(test_sizes, training_errors, 'b',label = \"Training Error\")\n",
    "    plt.legend(loc=\"upper right\")\n",
    "    plt.title(\"Analysis of Test Size: \")\n",
    "\n",
    "    plt.ylabel('Errors')\n",
    "    plt.xlabel('Test Size')\n",
    "    plt.show()\n"
   ]
  },
  {
   "cell_type": "markdown",
   "metadata": {},
   "source": [
    "### Train model with different parameters, kernels and costs"
   ]
  },
  {
   "cell_type": "code",
   "execution_count": null,
   "metadata": {},
   "outputs": [
    {
     "name": "stdout",
     "output_type": "stream",
     "text": [
      "SVC(C=1.0, cache_size=200, class_weight=None, coef0=0.0,\n",
      "  decision_function_shape='ovr', degree=3, gamma='auto_deprecated',\n",
      "  kernel='linear', max_iter=-1, probability=False, random_state=None,\n",
      "  shrinking=False, tol=0.001, verbose=False)\n",
      "test size: 0.05\n",
      "test error: 0.15000000000000002\n",
      "\n",
      "training error: 0.11021505376344087\n",
      "test size: 0.1\n",
      "test error: 0.15000000000000002\n",
      "\n",
      "training error: 0.10795454545454541\n",
      "test size: 0.15\n",
      "test error: 0.13559322033898302\n",
      "\n",
      "training error: 0.10510510510510507\n",
      "test size: 0.2\n",
      "test error: 0.11392405063291144\n",
      "\n",
      "training error: 0.10543130990415339\n",
      "test size: 0.25\n",
      "test error: 0.16326530612244894\n",
      "\n",
      "training error: 0.09183673469387754\n",
      "test size: 0.3\n",
      "test error: 0.14406779661016944\n",
      "\n",
      "training error: 0.0985401459854015\n"
     ]
    },
    {
     "data": {
      "image/png": "[encoded data removed]",
      "text/plain": [
       "<Figure size 864x576 with 1 Axes>"
      ]
     },
     "metadata": {
      "needs_background": "light"
     },
     "output_type": "display_data"
    },
    {
     "name": "stdout",
     "output_type": "stream",
     "text": [
      "SVC(C=1.0, cache_size=200, class_weight=None, coef0=0.0,\n",
      "  decision_function_shape='ovr', degree=3, gamma='auto_deprecated',\n",
      "  kernel='rbf', max_iter=-1, probability=False, random_state=None,\n",
      "  shrinking=False, tol=0.001, verbose=False)\n",
      "test size: 0.05\n",
      "test error: 0.19999999999999996\n",
      "\n",
      "training error: 0.018817204301075252\n",
      "test size: 0.1\n",
      "test error: 0.19999999999999996\n",
      "\n",
      "training error: 0.017045454545454586\n",
      "test size: 0.15\n",
      "test error: 0.18644067796610164\n",
      "\n",
      "training error: 0.018018018018018056\n",
      "test size: 0.2\n",
      "test error: 0.1392405063291139\n",
      "\n",
      "training error: 0.019169329073482455\n",
      "test size: 0.25\n",
      "test error: 0.18367346938775508\n",
      "\n",
      "training error: 0.013605442176870763\n",
      "test size: 0.3\n",
      "test error: 0.22881355932203384\n",
      "\n",
      "training error: 0.010948905109489093\n"
     ]
    },
    {
     "name": "stderr",
     "output_type": "stream",
     "text": [
      "/home/hannes/anaconda3/lib/python3.7/site-packages/sklearn/svm/base.py:196: FutureWarning: The default value of gamma will change from 'auto' to 'scale' in version 0.22 to account better for unscaled features. Set gamma explicitly to 'auto' or 'scale' to avoid this warning.\n",
      "  \"avoid this warning.\", FutureWarning)\n",
      "/home/hannes/anaconda3/lib/python3.7/site-packages/sklearn/svm/base.py:196: FutureWarning: The default value of gamma will change from 'auto' to 'scale' in version 0.22 to account better for unscaled features. Set gamma explicitly to 'auto' or 'scale' to avoid this warning.\n",
      "  \"avoid this warning.\", FutureWarning)\n",
      "/home/hannes/anaconda3/lib/python3.7/site-packages/sklearn/svm/base.py:196: FutureWarning: The default value of gamma will change from 'auto' to 'scale' in version 0.22 to account better for unscaled features. Set gamma explicitly to 'auto' or 'scale' to avoid this warning.\n",
      "  \"avoid this warning.\", FutureWarning)\n",
      "/home/hannes/anaconda3/lib/python3.7/site-packages/sklearn/svm/base.py:196: FutureWarning: The default value of gamma will change from 'auto' to 'scale' in version 0.22 to account better for unscaled features. Set gamma explicitly to 'auto' or 'scale' to avoid this warning.\n",
      "  \"avoid this warning.\", FutureWarning)\n",
      "/home/hannes/anaconda3/lib/python3.7/site-packages/sklearn/svm/base.py:196: FutureWarning: The default value of gamma will change from 'auto' to 'scale' in version 0.22 to account better for unscaled features. Set gamma explicitly to 'auto' or 'scale' to avoid this warning.\n",
      "  \"avoid this warning.\", FutureWarning)\n",
      "/home/hannes/anaconda3/lib/python3.7/site-packages/sklearn/svm/base.py:196: FutureWarning: The default value of gamma will change from 'auto' to 'scale' in version 0.22 to account better for unscaled features. Set gamma explicitly to 'auto' or 'scale' to avoid this warning.\n",
      "  \"avoid this warning.\", FutureWarning)\n"
     ]
    },
    {
     "data": {
      "image/png": "[encoded data removed]",
      "text/plain": [
       "<Figure size 864x576 with 1 Axes>"
      ]
     },
     "metadata": {
      "needs_background": "light"
     },
     "output_type": "display_data"
    },
    {
     "name": "stdout",
     "output_type": "stream",
     "text": [
      "SVC(C=1.0, cache_size=200, class_weight=None, coef0=0.0,\n",
      "  decision_function_shape='ovr', degree=3, gamma='auto_deprecated',\n",
      "  kernel='sigmoid', max_iter=-1, probability=False, random_state=None,\n",
      "  shrinking=False, tol=0.001, verbose=False)\n",
      "test size: 0.05\n",
      "test error: 0.5\n",
      "\n",
      "training error: 0.47580645161290325\n",
      "test size: 0.1\n",
      "test error: 0.44999999999999996\n",
      "\n",
      "training error: 0.48011363636363635\n",
      "test size: 0.15\n",
      "test error: 0.44067796610169496\n",
      "\n",
      "training error: 0.48348348348348347\n",
      "test size: 0.2\n",
      "test error: 0.45569620253164556\n",
      "\n",
      "training error: 0.4824281150159745\n",
      "test size: 0.25\n",
      "test error: 0.47959183673469385\n",
      "\n",
      "training error: 0.47619047619047616\n",
      "test size: 0.3\n",
      "test error: 0.5169491525423728\n",
      "\n",
      "training error: 0.45985401459854014\n"
     ]
    },
    {
     "name": "stderr",
     "output_type": "stream",
     "text": [
      "/home/hannes/anaconda3/lib/python3.7/site-packages/sklearn/svm/base.py:196: FutureWarning: The default value of gamma will change from 'auto' to 'scale' in version 0.22 to account better for unscaled features. Set gamma explicitly to 'auto' or 'scale' to avoid this warning.\n",
      "  \"avoid this warning.\", FutureWarning)\n",
      "/home/hannes/anaconda3/lib/python3.7/site-packages/sklearn/svm/base.py:196: FutureWarning: The default value of gamma will change from 'auto' to 'scale' in version 0.22 to account better for unscaled features. Set gamma explicitly to 'auto' or 'scale' to avoid this warning.\n",
      "  \"avoid this warning.\", FutureWarning)\n",
      "/home/hannes/anaconda3/lib/python3.7/site-packages/sklearn/svm/base.py:196: FutureWarning: The default value of gamma will change from 'auto' to 'scale' in version 0.22 to account better for unscaled features. Set gamma explicitly to 'auto' or 'scale' to avoid this warning.\n",
      "  \"avoid this warning.\", FutureWarning)\n",
      "/home/hannes/anaconda3/lib/python3.7/site-packages/sklearn/svm/base.py:196: FutureWarning: The default value of gamma will change from 'auto' to 'scale' in version 0.22 to account better for unscaled features. Set gamma explicitly to 'auto' or 'scale' to avoid this warning.\n",
      "  \"avoid this warning.\", FutureWarning)\n",
      "/home/hannes/anaconda3/lib/python3.7/site-packages/sklearn/svm/base.py:196: FutureWarning: The default value of gamma will change from 'auto' to 'scale' in version 0.22 to account better for unscaled features. Set gamma explicitly to 'auto' or 'scale' to avoid this warning.\n",
      "  \"avoid this warning.\", FutureWarning)\n",
      "/home/hannes/anaconda3/lib/python3.7/site-packages/sklearn/svm/base.py:196: FutureWarning: The default value of gamma will change from 'auto' to 'scale' in version 0.22 to account better for unscaled features. Set gamma explicitly to 'auto' or 'scale' to avoid this warning.\n",
      "  \"avoid this warning.\", FutureWarning)\n"
     ]
    },
    {
     "data": {
      "image/png": "[encoded data removed]",
      "text/plain": [
       "<Figure size 864x576 with 1 Axes>"
      ]
     },
     "metadata": {
      "needs_background": "light"
     },
     "output_type": "display_data"
    },
    {
     "name": "stdout",
     "output_type": "stream",
     "text": [
      "SVC(C=1.0, cache_size=200, class_weight=None, coef0=0.0,\n",
      "  decision_function_shape='ovr', degree=3, gamma='auto_deprecated',\n",
      "  kernel='poly', max_iter=-1, probability=False, random_state=None,\n",
      "  shrinking=False, tol=0.001, verbose=False)\n"
     ]
    },
    {
     "name": "stderr",
     "output_type": "stream",
     "text": [
      "/home/hannes/anaconda3/lib/python3.7/site-packages/sklearn/svm/base.py:196: FutureWarning: The default value of gamma will change from 'auto' to 'scale' in version 0.22 to account better for unscaled features. Set gamma explicitly to 'auto' or 'scale' to avoid this warning.\n",
      "  \"avoid this warning.\", FutureWarning)\n"
     ]
    },
    {
     "name": "stdout",
     "output_type": "stream",
     "text": [
      "test size: 0.05\n",
      "test error: 0.25\n",
      "\n",
      "training error: 0.14247311827956988\n"
     ]
    },
    {
     "name": "stderr",
     "output_type": "stream",
     "text": [
      "/home/hannes/anaconda3/lib/python3.7/site-packages/sklearn/svm/base.py:196: FutureWarning: The default value of gamma will change from 'auto' to 'scale' in version 0.22 to account better for unscaled features. Set gamma explicitly to 'auto' or 'scale' to avoid this warning.\n",
      "  \"avoid this warning.\", FutureWarning)\n"
     ]
    }
   ],
   "source": [
    "test_sizes = [0.05, 0.1, 0.15, 0.2, 0.25, 0.3]\n",
    "\n",
    "#kernels = ['linear', 'rbf', 'sigmoid', 'poly']\n",
    "costs = range(1, 1000, 5)\n",
    "\n",
    "for cost in costs:\n",
    "    SVM_clf = SVC(shrinking = False, cost = cost)\n",
    "    print(SVM_clf)\n",
    "    plot_errors_for_test_sizes(SVM_clf, df, test_sizes)\n",
    "\n"
   ]
  },
  {
   "cell_type": "markdown",
   "metadata": {},
   "source": [
    "## Creating synthetic data"
   ]
  },
  {
   "cell_type": "code",
   "execution_count": null,
   "metadata": {},
   "outputs": [],
   "source": [
    "#Sampe from Gaussian\n",
    "N = 1000\n",
    "mean = [0, 0]\n",
    "cov = [[1, 0], [0, 100]]  # diagonal covariance\n",
    "\n",
    "X1, X2 = np.random.multivariate_normal(mean, cov, N).T\n",
    "\n",
    "plt.figure(figsize=(11, 8))\n",
    "plt.plot(X1, X2, 'x',label = \"Synthetic Data\")\n",
    "plt.legend(loc=\"upper right\")\n",
    "plt.title(\"Samples from Gaussian\")\n",
    "plt.ylabel('X2')\n",
    "plt.xlabel('X1')\n",
    "plt.show()"
   ]
  },
  {
   "cell_type": "markdown",
   "metadata": {},
   "source": [
    "### Create dataframe and separate into two classes"
   ]
  },
  {
   "cell_type": "code",
   "execution_count": null,
   "metadata": {},
   "outputs": [],
   "source": [
    "#scale vectors\n",
    "k = 0.5\n",
    "r = 2\n",
    "N_1 = k * X1.size()\n",
    "\n",
    "X1[:N_1] = X1[:N_1]*r \n",
    "\n",
    "\n",
    "# Put data in dataframe\n",
    "generated_df = pd.DataFrame({'X1': X1, 'X2': X2})\n",
    "\n",
    "generated_df[:N_1]\n",
    "\n",
    "#labels = np.full((X1.size), 1, dtype=int) "
   ]
  }
 ],
 "metadata": {
  "kernelspec": {
   "display_name": "Python 3",
   "language": "python",
   "name": "python3"
  },
  "language_info": {
   "codemirror_mode": {
    "name": "ipython",
    "version": 3
   },
   "file_extension": ".py",
   "mimetype": "text/x-python",
   "name": "python",
   "nbconvert_exporter": "python",
   "pygments_lexer": "ipython3",
   "version": "3.7.3"
  }
 },
 "nbformat": 4,
 "nbformat_minor": 2
}
